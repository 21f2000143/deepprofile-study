{
 "cells": [
  {
   "cell_type": "code",
   "execution_count": 1,
   "metadata": {},
   "outputs": [],
   "source": [
    "###############################\n",
    "#Author: Ayse Dincer\n",
    "#Notebook for getting GTEx names of healthy tissue samples\n",
    "###############################\n"
   ]
  },
  {
   "cell_type": "code",
   "execution_count": 2,
   "metadata": {},
   "outputs": [],
   "source": [
    "import numpy as np\n",
    "import pandas as pd\n",
    "import csv"
   ]
  },
  {
   "cell_type": "code",
   "execution_count": 3,
   "metadata": {},
   "outputs": [
    {
     "name": "stdout",
     "output_type": "stream",
     "text": [
      "(15598, 62)\n"
     ]
    }
   ],
   "source": [
    "#Read sample names file\n",
    "data_df = pd.read_table('GTEx_v7_Annotations_SampleAttributesDS.txt', sep = '\\t', index_col=0)\n",
    "print(data_df.shape)\n"
   ]
  },
  {
   "cell_type": "code",
   "execution_count": 13,
   "metadata": {},
   "outputs": [],
   "source": [
    "#Define mapping for tissues\n",
    "def getTissueMappings(cancer_name, tissue_name):\n",
    "\n",
    "    tissue_mappings = data_df['SMTSD']\n",
    "    selected_indices = tissue_mappings[[i for i, s in enumerate(tissue_mappings.values) if tissue_name in s]].index\n",
    "    print(\"Count of samples \", len(selected_indices))\n",
    "    print(tissue_mappings[selected_indices])\n",
    "    \n",
    "#     with open('../../ALL_CANCER_FILES/' + cancer_name + '/HEALTHY_TISSUE_FILES/GTEX_' + cancer_name + '_SAMPLES.txt', 'w') as f:\n",
    "#         for item in selected_indices:\n",
    "#             f.write(\"%s\\n\" % item)\n",
    "            \n",
    "    return tissue_mappings[selected_indices]\n",
    "\n"
   ]
  },
  {
   "cell_type": "code",
   "execution_count": 14,
   "metadata": {},
   "outputs": [],
   "source": [
    "#Run it for each cancer type we have"
   ]
  },
  {
   "cell_type": "code",
   "execution_count": 16,
   "metadata": {},
   "outputs": [
    {
     "name": "stdout",
     "output_type": "stream",
     "text": [
      "Count of samples  306\n",
      "SAMPID\n",
      "GTEX-1117F-2826-SM-5GZXL    Breast - Mammary Tissue\n",
      "GTEX-111YS-1926-SM-5GICC    Breast - Mammary Tissue\n",
      "GTEX-1122O-1226-SM-5H113    Breast - Mammary Tissue\n",
      "GTEX-117XS-1926-SM-5GICO    Breast - Mammary Tissue\n",
      "GTEX-117YX-1426-SM-5H12H    Breast - Mammary Tissue\n",
      "                                     ...           \n",
      "GTEX-ZYT6-0126-SM-5E45J     Breast - Mammary Tissue\n",
      "GTEX-ZYW4-0826-SM-5GIDG     Breast - Mammary Tissue\n",
      "GTEX-ZYWO-2326-SM-5GZY4     Breast - Mammary Tissue\n",
      "GTEX-ZZ64-1226-SM-5E43R     Breast - Mammary Tissue\n",
      "GTEX-ZZPU-0626-SM-5E43T     Breast - Mammary Tissue\n",
      "Name: SMTSD, Length: 306, dtype: object\n",
      "Count of samples  306\n",
      "SAMPID\n",
      "GTEX-1117F-2826-SM-5GZXL    Breast - Mammary Tissue\n",
      "GTEX-111YS-1926-SM-5GICC    Breast - Mammary Tissue\n",
      "GTEX-1122O-1226-SM-5H113    Breast - Mammary Tissue\n",
      "GTEX-117XS-1926-SM-5GICO    Breast - Mammary Tissue\n",
      "GTEX-117YX-1426-SM-5H12H    Breast - Mammary Tissue\n",
      "                                     ...           \n",
      "GTEX-ZYT6-0126-SM-5E45J     Breast - Mammary Tissue\n",
      "GTEX-ZYW4-0826-SM-5GIDG     Breast - Mammary Tissue\n",
      "GTEX-ZYWO-2326-SM-5GZY4     Breast - Mammary Tissue\n",
      "GTEX-ZZ64-1226-SM-5E43R     Breast - Mammary Tissue\n",
      "GTEX-ZZPU-0626-SM-5E43T     Breast - Mammary Tissue\n",
      "Name: SMTSD, Length: 306, dtype: object\n",
      "['Breast - Mammary Tissue']\n"
     ]
    }
   ],
   "source": [
    "getTissueMappings('BRCA', 'Breast')\n",
    "print(np.unique(getTissueMappings('BRCA', 'Breast')))"
   ]
  },
  {
   "cell_type": "code",
   "execution_count": 17,
   "metadata": {},
   "outputs": [
    {
     "name": "stdout",
     "output_type": "stream",
     "text": [
      "Count of samples  539\n",
      "SAMPID\n",
      "GTEX-111CU-1226-SM-5EGIN       Colon - Sigmoid\n",
      "GTEX-111CU-1426-SM-5GZYP    Colon - Transverse\n",
      "GTEX-111VG-2226-SM-5N9DU    Colon - Transverse\n",
      "GTEX-111YS-1626-SM-5GZZ9    Colon - Transverse\n",
      "GTEX-111YS-1826-SM-5GIEP       Colon - Sigmoid\n",
      "                                   ...        \n",
      "GTEX-ZYVF-2826-SM-5GIDK     Colon - Transverse\n",
      "GTEX-ZYWO-1626-SM-5E44H     Colon - Transverse\n",
      "GTEX-ZYY3-2226-SM-5E45A        Colon - Sigmoid\n",
      "GTEX-ZZ64-0726-SM-5GZX4     Colon - Transverse\n",
      "GTEX-ZZ64-0826-SM-5E449        Colon - Sigmoid\n",
      "Name: SMTSD, Length: 539, dtype: object\n",
      "Count of samples  539\n",
      "SAMPID\n",
      "GTEX-111CU-1226-SM-5EGIN       Colon - Sigmoid\n",
      "GTEX-111CU-1426-SM-5GZYP    Colon - Transverse\n",
      "GTEX-111VG-2226-SM-5N9DU    Colon - Transverse\n",
      "GTEX-111YS-1626-SM-5GZZ9    Colon - Transverse\n",
      "GTEX-111YS-1826-SM-5GIEP       Colon - Sigmoid\n",
      "                                   ...        \n",
      "GTEX-ZYVF-2826-SM-5GIDK     Colon - Transverse\n",
      "GTEX-ZYWO-1626-SM-5E44H     Colon - Transverse\n",
      "GTEX-ZYY3-2226-SM-5E45A        Colon - Sigmoid\n",
      "GTEX-ZZ64-0726-SM-5GZX4     Colon - Transverse\n",
      "GTEX-ZZ64-0826-SM-5E449        Colon - Sigmoid\n",
      "Name: SMTSD, Length: 539, dtype: object\n",
      "['Colon - Sigmoid' 'Colon - Transverse']\n"
     ]
    }
   ],
   "source": [
    "getTissueMappings('COLON', 'Colon')\n",
    "print(np.unique(getTissueMappings('COLON', 'Colon')))"
   ]
  },
  {
   "cell_type": "code",
   "execution_count": 19,
   "metadata": {},
   "outputs": [
    {
     "name": "stdout",
     "output_type": "stream",
     "text": [
      "Count of samples  607\n",
      "SAMPID\n",
      "GTEX-111CU-0326-SM-5GZXO    Lung\n",
      "GTEX-111FC-1126-SM-5GZWU    Lung\n",
      "GTEX-111VG-0726-SM-5GIDC    Lung\n",
      "GTEX-111YS-0626-SM-5GZXV    Lung\n",
      "GTEX-1122O-0126-SM-5GICA    Lung\n",
      "                            ... \n",
      "GTEX-ZYW4-1526-SM-5SIBA     Lung\n",
      "GTEX-ZYWO-0826-SM-5E45W     Lung\n",
      "GTEX-ZYY3-0926-SM-5E454     Lung\n",
      "GTEX-ZZPT-1326-SM-5E43H     Lung\n",
      "GTEX-ZZPU-0526-SM-5E44U     Lung\n",
      "Name: SMTSD, Length: 607, dtype: object\n",
      "Count of samples  607\n",
      "SAMPID\n",
      "GTEX-111CU-0326-SM-5GZXO    Lung\n",
      "GTEX-111FC-1126-SM-5GZWU    Lung\n",
      "GTEX-111VG-0726-SM-5GIDC    Lung\n",
      "GTEX-111YS-0626-SM-5GZXV    Lung\n",
      "GTEX-1122O-0126-SM-5GICA    Lung\n",
      "                            ... \n",
      "GTEX-ZYW4-1526-SM-5SIBA     Lung\n",
      "GTEX-ZYWO-0826-SM-5E45W     Lung\n",
      "GTEX-ZYY3-0926-SM-5E454     Lung\n",
      "GTEX-ZZPT-1326-SM-5E43H     Lung\n",
      "GTEX-ZZPU-0526-SM-5E44U     Lung\n",
      "Name: SMTSD, Length: 607, dtype: object\n",
      "['Lung']\n"
     ]
    }
   ],
   "source": [
    "getTissueMappings('LUNG', 'Lung')\n",
    "print(np.unique(getTissueMappings('LUNG', 'Lung')))"
   ]
  },
  {
   "cell_type": "code",
   "execution_count": 21,
   "metadata": {},
   "outputs": [
    {
     "name": "stdout",
     "output_type": "stream",
     "text": [
      "Count of samples  2412\n",
      "SAMPID\n",
      "GTEX-1117F-0003-SM-58Q7G    Whole Blood\n",
      "GTEX-1117F-0003-SM-5DWSB    Whole Blood\n",
      "GTEX-1117F-0003-SM-6WBT7    Whole Blood\n",
      "GTEX-111CU-0003-SM-58Q95    Whole Blood\n",
      "GTEX-111CU-0003-SM-5DWTR    Whole Blood\n",
      "                               ...     \n",
      "GTEX-ZZPT-0002-SM-5DWTU     Whole Blood\n",
      "GTEX-ZZPT-0002-SM-6WBUG     Whole Blood\n",
      "GTEX-ZZPU-0003-SM-58Q8V     Whole Blood\n",
      "GTEX-ZZPU-0003-SM-5DWTO     Whole Blood\n",
      "GTEX-ZZPU-0003-SM-6WBUC     Whole Blood\n",
      "Name: SMTSD, Length: 2412, dtype: object\n",
      "Count of samples  2412\n",
      "SAMPID\n",
      "GTEX-1117F-0003-SM-58Q7G    Whole Blood\n",
      "GTEX-1117F-0003-SM-5DWSB    Whole Blood\n",
      "GTEX-1117F-0003-SM-6WBT7    Whole Blood\n",
      "GTEX-111CU-0003-SM-58Q95    Whole Blood\n",
      "GTEX-111CU-0003-SM-5DWTR    Whole Blood\n",
      "                               ...     \n",
      "GTEX-ZZPT-0002-SM-5DWTU     Whole Blood\n",
      "GTEX-ZZPT-0002-SM-6WBUG     Whole Blood\n",
      "GTEX-ZZPU-0003-SM-58Q8V     Whole Blood\n",
      "GTEX-ZZPU-0003-SM-5DWTO     Whole Blood\n",
      "GTEX-ZZPU-0003-SM-6WBUC     Whole Blood\n",
      "Name: SMTSD, Length: 2412, dtype: object\n",
      "['Whole Blood']\n"
     ]
    }
   ],
   "source": [
    "getTissueMappings('AML', 'Whole Blood')\n",
    "print(np.unique(getTissueMappings('AML', 'Whole Blood')))"
   ]
  },
  {
   "cell_type": "code",
   "execution_count": 22,
   "metadata": {},
   "outputs": [
    {
     "name": "stdout",
     "output_type": "stream",
     "text": [
      "Count of samples  2076\n",
      "SAMPID\n",
      "GTEX-1117F-3226-SM-5N9CT        Brain - Cortex\n",
      "GTEX-111FC-3126-SM-5GZZ2        Brain - Cortex\n",
      "GTEX-111FC-3326-SM-5GZYV    Brain - Cerebellum\n",
      "GTEX-1128S-2726-SM-5H12C        Brain - Cortex\n",
      "GTEX-1128S-2826-SM-5N9DI    Brain - Cerebellum\n",
      "                                   ...        \n",
      "GTEX-ZYFD-3026-SM-5E44C         Brain - Cortex\n",
      "GTEX-ZYY3-3026-SM-5GIEJ     Brain - Cerebellum\n",
      "GTEX-ZYY3-3126-SM-5SI9L         Brain - Cortex\n",
      "GTEX-ZZPT-2926-SM-5EQ5S     Brain - Cerebellum\n",
      "GTEX-ZZPT-3026-SM-5GZXH         Brain - Cortex\n",
      "Name: SMTSD, Length: 2076, dtype: object\n",
      "Count of samples  2076\n",
      "SAMPID\n",
      "GTEX-1117F-3226-SM-5N9CT        Brain - Cortex\n",
      "GTEX-111FC-3126-SM-5GZZ2        Brain - Cortex\n",
      "GTEX-111FC-3326-SM-5GZYV    Brain - Cerebellum\n",
      "GTEX-1128S-2726-SM-5H12C        Brain - Cortex\n",
      "GTEX-1128S-2826-SM-5N9DI    Brain - Cerebellum\n",
      "                                   ...        \n",
      "GTEX-ZYFD-3026-SM-5E44C         Brain - Cortex\n",
      "GTEX-ZYY3-3026-SM-5GIEJ     Brain - Cerebellum\n",
      "GTEX-ZYY3-3126-SM-5SI9L         Brain - Cortex\n",
      "GTEX-ZZPT-2926-SM-5EQ5S     Brain - Cerebellum\n",
      "GTEX-ZZPT-3026-SM-5GZXH         Brain - Cortex\n",
      "Name: SMTSD, Length: 2076, dtype: object\n",
      "['Brain - Amygdala' 'Brain - Anterior cingulate cortex (BA24)'\n",
      " 'Brain - Caudate (basal ganglia)' 'Brain - Cerebellar Hemisphere'\n",
      " 'Brain - Cerebellum' 'Brain - Cortex' 'Brain - Frontal Cortex (BA9)'\n",
      " 'Brain - Hippocampus' 'Brain - Hypothalamus'\n",
      " 'Brain - Nucleus accumbens (basal ganglia)'\n",
      " 'Brain - Putamen (basal ganglia)' 'Brain - Spinal cord (cervical c-1)'\n",
      " 'Brain - Substantia nigra']\n"
     ]
    }
   ],
   "source": [
    "getTissueMappings('BRAIN', 'Brain')\n",
    "print(np.unique(getTissueMappings('BRAIN', 'Brain')))"
   ]
  },
  {
   "cell_type": "code",
   "execution_count": 23,
   "metadata": {},
   "outputs": [
    {
     "name": "stdout",
     "output_type": "stream",
     "text": [
      "Count of samples  1000\n",
      "SAMPID\n",
      "GTEX-1117F-2926-SM-5GZYI    Skin - Not Sun Exposed (Suprapubic)\n",
      "GTEX-111CU-1126-SM-5EGIM    Skin - Not Sun Exposed (Suprapubic)\n",
      "GTEX-111CU-1926-SM-5GZYZ         Skin - Sun Exposed (Lower leg)\n",
      "GTEX-111FC-0126-SM-5N9DL         Skin - Sun Exposed (Lower leg)\n",
      "GTEX-111FC-2526-SM-5GZXU    Skin - Not Sun Exposed (Suprapubic)\n",
      "                                           ...                 \n",
      "GTEX-ZYY3-2926-SM-5GIEB     Skin - Not Sun Exposed (Suprapubic)\n",
      "GTEX-ZZ64-1026-SM-5GZXG     Skin - Not Sun Exposed (Suprapubic)\n",
      "GTEX-ZZ64-1726-SM-5GZYB          Skin - Sun Exposed (Lower leg)\n",
      "GTEX-ZZPT-0226-SM-5E43X          Skin - Sun Exposed (Lower leg)\n",
      "GTEX-ZZPU-0826-SM-5GZX5     Skin - Not Sun Exposed (Suprapubic)\n",
      "Name: SMTSD, Length: 1000, dtype: object\n",
      "Count of samples  1000\n",
      "SAMPID\n",
      "GTEX-1117F-2926-SM-5GZYI    Skin - Not Sun Exposed (Suprapubic)\n",
      "GTEX-111CU-1126-SM-5EGIM    Skin - Not Sun Exposed (Suprapubic)\n",
      "GTEX-111CU-1926-SM-5GZYZ         Skin - Sun Exposed (Lower leg)\n",
      "GTEX-111FC-0126-SM-5N9DL         Skin - Sun Exposed (Lower leg)\n",
      "GTEX-111FC-2526-SM-5GZXU    Skin - Not Sun Exposed (Suprapubic)\n",
      "                                           ...                 \n",
      "GTEX-ZYY3-2926-SM-5GIEB     Skin - Not Sun Exposed (Suprapubic)\n",
      "GTEX-ZZ64-1026-SM-5GZXG     Skin - Not Sun Exposed (Suprapubic)\n",
      "GTEX-ZZ64-1726-SM-5GZYB          Skin - Sun Exposed (Lower leg)\n",
      "GTEX-ZZPT-0226-SM-5E43X          Skin - Sun Exposed (Lower leg)\n",
      "GTEX-ZZPU-0826-SM-5GZX5     Skin - Not Sun Exposed (Suprapubic)\n",
      "Name: SMTSD, Length: 1000, dtype: object\n",
      "['Skin - Not Sun Exposed (Suprapubic)' 'Skin - Sun Exposed (Lower leg)']\n"
     ]
    }
   ],
   "source": [
    "getTissueMappings('SKIN', 'Skin')\n",
    "print(np.unique(getTissueMappings('SKIN', 'Skin')))"
   ]
  },
  {
   "cell_type": "code",
   "execution_count": 24,
   "metadata": {},
   "outputs": [
    {
     "name": "stdout",
     "output_type": "stream",
     "text": [
      "Count of samples  718\n",
      "SAMPID\n",
      "GTEX-1117F-0426-SM-5EGHI    Muscle - Skeletal\n",
      "GTEX-111CU-2026-SM-5GZZC    Muscle - Skeletal\n",
      "GTEX-111FC-0326-SM-5GZZ1    Muscle - Skeletal\n",
      "GTEX-111VG-2626-SM-5GZY2    Muscle - Skeletal\n",
      "GTEX-111YS-2326-SM-5987L    Muscle - Skeletal\n",
      "                                  ...        \n",
      "GTEX-ZYWO-2626-SM-5E43V     Muscle - Skeletal\n",
      "GTEX-ZYY3-0526-SM-5E45G     Muscle - Skeletal\n",
      "GTEX-ZZ64-1526-SM-5E43K     Muscle - Skeletal\n",
      "GTEX-ZZPT-0626-SM-5GZXT     Muscle - Skeletal\n",
      "GTEX-ZZPU-2626-SM-5E45Y     Muscle - Skeletal\n",
      "Name: SMTSD, Length: 718, dtype: object\n",
      "Count of samples  718\n",
      "SAMPID\n",
      "GTEX-1117F-0426-SM-5EGHI    Muscle - Skeletal\n",
      "GTEX-111CU-2026-SM-5GZZC    Muscle - Skeletal\n",
      "GTEX-111FC-0326-SM-5GZZ1    Muscle - Skeletal\n",
      "GTEX-111VG-2626-SM-5GZY2    Muscle - Skeletal\n",
      "GTEX-111YS-2326-SM-5987L    Muscle - Skeletal\n",
      "                                  ...        \n",
      "GTEX-ZYWO-2626-SM-5E43V     Muscle - Skeletal\n",
      "GTEX-ZYY3-0526-SM-5E45G     Muscle - Skeletal\n",
      "GTEX-ZZ64-1526-SM-5E43K     Muscle - Skeletal\n",
      "GTEX-ZZPT-0626-SM-5GZXT     Muscle - Skeletal\n",
      "GTEX-ZZPU-2626-SM-5E45Y     Muscle - Skeletal\n",
      "Name: SMTSD, Length: 718, dtype: object\n",
      "['Muscle - Skeletal']\n"
     ]
    }
   ],
   "source": [
    "getTissueMappings('SARCOMA', 'Muscle')\n",
    "print(np.unique(getTissueMappings('SARCOMA', 'Muscle')))"
   ]
  },
  {
   "cell_type": "code",
   "execution_count": 25,
   "metadata": {},
   "outputs": [
    {
     "name": "stdout",
     "output_type": "stream",
     "text": [
      "Count of samples  188\n",
      "SAMPID\n",
      "GTEX-1192X-1026-SM-5H12P    Liver\n",
      "GTEX-11DXY-0526-SM-5EGGQ    Liver\n",
      "GTEX-11DXZ-0126-SM-5EGGY    Liver\n",
      "GTEX-11EQ9-0526-SM-5A5JZ    Liver\n",
      "GTEX-11GSP-0626-SM-5986T    Liver\n",
      "                            ...  \n",
      "GTEX-ZVT3-1626-SM-5GU66     Liver\n",
      "GTEX-ZVT4-0626-SM-5E45T     Liver\n",
      "GTEX-ZYT6-0626-SM-5E45V     Liver\n",
      "GTEX-ZYY3-0626-SM-5NQ6W     Liver\n",
      "GTEX-ZZPU-0426-SM-5GZYH     Liver\n",
      "Name: SMTSD, Length: 188, dtype: object\n",
      "Count of samples  188\n",
      "SAMPID\n",
      "GTEX-1192X-1026-SM-5H12P    Liver\n",
      "GTEX-11DXY-0526-SM-5EGGQ    Liver\n",
      "GTEX-11DXZ-0126-SM-5EGGY    Liver\n",
      "GTEX-11EQ9-0526-SM-5A5JZ    Liver\n",
      "GTEX-11GSP-0626-SM-5986T    Liver\n",
      "                            ...  \n",
      "GTEX-ZVT3-1626-SM-5GU66     Liver\n",
      "GTEX-ZVT4-0626-SM-5E45T     Liver\n",
      "GTEX-ZYT6-0626-SM-5E45V     Liver\n",
      "GTEX-ZYY3-0626-SM-5NQ6W     Liver\n",
      "GTEX-ZZPU-0426-SM-5GZYH     Liver\n",
      "Name: SMTSD, Length: 188, dtype: object\n",
      "['Liver']\n"
     ]
    }
   ],
   "source": [
    "getTissueMappings('LIVER', 'Liver')\n",
    "print(np.unique(getTissueMappings('LIVER', 'Liver')))"
   ]
  },
  {
   "cell_type": "code",
   "execution_count": 26,
   "metadata": {
    "scrolled": true
   },
   "outputs": [
    {
     "name": "stdout",
     "output_type": "stream",
     "text": [
      "Count of samples  50\n",
      "SAMPID\n",
      "GTEX-11GS4-2326-SM-5A5KS    Kidney - Cortex\n",
      "GTEX-11OF3-1326-SM-5N9FJ    Kidney - Cortex\n",
      "GTEX-11PRG-2226-SM-5GU5R    Kidney - Cortex\n",
      "GTEX-11TTK-1926-SM-5PNW8    Kidney - Cortex\n",
      "GTEX-12696-0926-SM-5FQTV    Kidney - Cortex\n",
      "GTEX-12WSG-0826-SM-5EQ5A    Kidney - Cortex\n",
      "GTEX-13112-2126-SM-5GCO4    Kidney - Cortex\n",
      "GTEX-1399S-0526-SM-5IJG8    Kidney - Cortex\n",
      "GTEX-13NYB-1726-SM-5N9G2    Kidney - Cortex\n",
      "GTEX-13O1R-2526-SM-5N9FW    Kidney - Cortex\n",
      "GTEX-13OVI-1126-SM-5KLZF    Kidney - Cortex\n",
      "GTEX-13OVL-1826-SM-5KLZR    Kidney - Cortex\n",
      "GTEX-13OW6-1826-SM-5N9F9    Kidney - Cortex\n",
      "GTEX-13RTJ-2226-SM-5S2Q1    Kidney - Cortex\n",
      "GTEX-145MN-0326-SM-5QGQI    Kidney - Cortex\n",
      "GTEX-147F4-2626-SM-5Q5CS    Kidney - Cortex\n",
      "GTEX-1497J-0826-SM-5NQAJ    Kidney - Cortex\n",
      "GTEX-14C39-2126-SM-664OH    Kidney - Cortex\n",
      "GTEX-14C5O-2026-SM-5YYB1    Kidney - Cortex\n",
      "GTEX-14E6D-2526-SM-5YYA9    Kidney - Cortex\n",
      "GTEX-15CHQ-2126-SM-6871M    Kidney - Cortex\n",
      "GTEX-15DYW-2026-SM-6AJBD    Kidney - Cortex\n",
      "GTEX-15TU5-2226-SM-6LPI2    Kidney - Cortex\n",
      "GTEX-16MT8-1926-SM-7EPGL    Kidney - Cortex\n",
      "GTEX-17F97-1926-SM-7IGM4    Kidney - Cortex\n",
      "GTEX-17HHY-2326-SM-7KFSR    Kidney - Cortex\n",
      "GTEX-1A3MW-2226-SM-73KUX    Kidney - Cortex\n",
      "GTEX-1AX8Z-2326-SM-731CR    Kidney - Cortex\n",
      "GTEX-1BAJH-1826-SM-731DA    Kidney - Cortex\n",
      "GTEX-1C6VQ-2326-SM-7IGN1    Kidney - Cortex\n",
      "GTEX-1EKGG-2226-SM-7IGOA    Kidney - Cortex\n",
      "GTEX-N7MS-1626-SM-3LK5F     Kidney - Cortex\n",
      "GTEX-NPJ8-2226-SM-3TW8D     Kidney - Cortex\n",
      "GTEX-P4QS-1126-SM-3NMD5     Kidney - Cortex\n",
      "GTEX-QDVN-1626-SM-48TZC     Kidney - Cortex\n",
      "GTEX-QLQW-1626-SM-4R1K1     Kidney - Cortex\n",
      "GTEX-RN64-1626-SM-48FD7     Kidney - Cortex\n",
      "GTEX-T5JC-1526-SM-4DM68     Kidney - Cortex\n",
      "GTEX-UPIC-1126-SM-4IHLO     Kidney - Cortex\n",
      "GTEX-WI4N-2026-SM-4OOS7     Kidney - Cortex\n",
      "GTEX-XPVG-0526-SM-4B65N     Kidney - Cortex\n",
      "GTEX-Y5V6-2026-SM-5IFHO     Kidney - Cortex\n",
      "GTEX-ZC5H-1726-SM-5HL7X     Kidney - Cortex\n",
      "GTEX-ZDXO-0226-SM-4WKH7     Kidney - Cortex\n",
      "GTEX-ZE9C-1426-SM-4WKGM     Kidney - Cortex\n",
      "GTEX-ZLFU-0926-SM-5P9F8     Kidney - Cortex\n",
      "GTEX-ZVZP-0926-SM-5GIDB     Kidney - Cortex\n",
      "GTEX-ZYFD-1526-SM-5NQ7T     Kidney - Cortex\n",
      "GTEX-ZYFG-1626-SM-5GZYY     Kidney - Cortex\n",
      "GTEX-ZYT6-2226-SM-5GIC9     Kidney - Cortex\n",
      "Name: SMTSD, dtype: object\n",
      "Count of samples  50\n",
      "SAMPID\n",
      "GTEX-11GS4-2326-SM-5A5KS    Kidney - Cortex\n",
      "GTEX-11OF3-1326-SM-5N9FJ    Kidney - Cortex\n",
      "GTEX-11PRG-2226-SM-5GU5R    Kidney - Cortex\n",
      "GTEX-11TTK-1926-SM-5PNW8    Kidney - Cortex\n",
      "GTEX-12696-0926-SM-5FQTV    Kidney - Cortex\n",
      "GTEX-12WSG-0826-SM-5EQ5A    Kidney - Cortex\n",
      "GTEX-13112-2126-SM-5GCO4    Kidney - Cortex\n",
      "GTEX-1399S-0526-SM-5IJG8    Kidney - Cortex\n",
      "GTEX-13NYB-1726-SM-5N9G2    Kidney - Cortex\n",
      "GTEX-13O1R-2526-SM-5N9FW    Kidney - Cortex\n",
      "GTEX-13OVI-1126-SM-5KLZF    Kidney - Cortex\n",
      "GTEX-13OVL-1826-SM-5KLZR    Kidney - Cortex\n",
      "GTEX-13OW6-1826-SM-5N9F9    Kidney - Cortex\n",
      "GTEX-13RTJ-2226-SM-5S2Q1    Kidney - Cortex\n",
      "GTEX-145MN-0326-SM-5QGQI    Kidney - Cortex\n",
      "GTEX-147F4-2626-SM-5Q5CS    Kidney - Cortex\n",
      "GTEX-1497J-0826-SM-5NQAJ    Kidney - Cortex\n",
      "GTEX-14C39-2126-SM-664OH    Kidney - Cortex\n",
      "GTEX-14C5O-2026-SM-5YYB1    Kidney - Cortex\n",
      "GTEX-14E6D-2526-SM-5YYA9    Kidney - Cortex\n",
      "GTEX-15CHQ-2126-SM-6871M    Kidney - Cortex\n",
      "GTEX-15DYW-2026-SM-6AJBD    Kidney - Cortex\n",
      "GTEX-15TU5-2226-SM-6LPI2    Kidney - Cortex\n",
      "GTEX-16MT8-1926-SM-7EPGL    Kidney - Cortex\n",
      "GTEX-17F97-1926-SM-7IGM4    Kidney - Cortex\n",
      "GTEX-17HHY-2326-SM-7KFSR    Kidney - Cortex\n",
      "GTEX-1A3MW-2226-SM-73KUX    Kidney - Cortex\n",
      "GTEX-1AX8Z-2326-SM-731CR    Kidney - Cortex\n",
      "GTEX-1BAJH-1826-SM-731DA    Kidney - Cortex\n",
      "GTEX-1C6VQ-2326-SM-7IGN1    Kidney - Cortex\n",
      "GTEX-1EKGG-2226-SM-7IGOA    Kidney - Cortex\n",
      "GTEX-N7MS-1626-SM-3LK5F     Kidney - Cortex\n",
      "GTEX-NPJ8-2226-SM-3TW8D     Kidney - Cortex\n",
      "GTEX-P4QS-1126-SM-3NMD5     Kidney - Cortex\n",
      "GTEX-QDVN-1626-SM-48TZC     Kidney - Cortex\n",
      "GTEX-QLQW-1626-SM-4R1K1     Kidney - Cortex\n",
      "GTEX-RN64-1626-SM-48FD7     Kidney - Cortex\n",
      "GTEX-T5JC-1526-SM-4DM68     Kidney - Cortex\n",
      "GTEX-UPIC-1126-SM-4IHLO     Kidney - Cortex\n",
      "GTEX-WI4N-2026-SM-4OOS7     Kidney - Cortex\n",
      "GTEX-XPVG-0526-SM-4B65N     Kidney - Cortex\n",
      "GTEX-Y5V6-2026-SM-5IFHO     Kidney - Cortex\n",
      "GTEX-ZC5H-1726-SM-5HL7X     Kidney - Cortex\n",
      "GTEX-ZDXO-0226-SM-4WKH7     Kidney - Cortex\n",
      "GTEX-ZE9C-1426-SM-4WKGM     Kidney - Cortex\n",
      "GTEX-ZLFU-0926-SM-5P9F8     Kidney - Cortex\n",
      "GTEX-ZVZP-0926-SM-5GIDB     Kidney - Cortex\n",
      "GTEX-ZYFD-1526-SM-5NQ7T     Kidney - Cortex\n",
      "GTEX-ZYFG-1626-SM-5GZYY     Kidney - Cortex\n",
      "GTEX-ZYT6-2226-SM-5GIC9     Kidney - Cortex\n",
      "Name: SMTSD, dtype: object\n",
      "['Kidney - Cortex']\n"
     ]
    }
   ],
   "source": [
    "getTissueMappings('KIDNEY', 'Kidney')\n",
    "print(np.unique(getTissueMappings('KIDNEY', 'Kidney')))"
   ]
  },
  {
   "cell_type": "code",
   "execution_count": 27,
   "metadata": {},
   "outputs": [
    {
     "name": "stdout",
     "output_type": "stream",
     "text": [
      "Count of samples  138\n",
      "SAMPID\n",
      "GTEX-1117F-2226-SM-5N9CH    Ovary\n",
      "GTEX-11DXX-1426-SM-5GIDU    Ovary\n",
      "GTEX-11EM3-1726-SM-5N9D1    Ovary\n",
      "GTEX-11EMC-1726-SM-5H11P    Ovary\n",
      "GTEX-11GSP-0226-SM-5A5KV    Ovary\n",
      "                            ...  \n",
      "GTEX-ZVT3-2626-SM-5GU5L     Ovary\n",
      "GTEX-ZYFG-1726-SM-5GZZB     Ovary\n",
      "GTEX-ZYWO-1926-SM-5E456     Ovary\n",
      "GTEX-ZYY3-2726-SM-5EGH4     Ovary\n",
      "GTEX-ZZPU-2126-SM-5EGIU     Ovary\n",
      "Name: SMTSD, Length: 138, dtype: object\n",
      "Count of samples  138\n",
      "SAMPID\n",
      "GTEX-1117F-2226-SM-5N9CH    Ovary\n",
      "GTEX-11DXX-1426-SM-5GIDU    Ovary\n",
      "GTEX-11EM3-1726-SM-5N9D1    Ovary\n",
      "GTEX-11EMC-1726-SM-5H11P    Ovary\n",
      "GTEX-11GSP-0226-SM-5A5KV    Ovary\n",
      "                            ...  \n",
      "GTEX-ZVT3-2626-SM-5GU5L     Ovary\n",
      "GTEX-ZYFG-1726-SM-5GZZB     Ovary\n",
      "GTEX-ZYWO-1926-SM-5E456     Ovary\n",
      "GTEX-ZYY3-2726-SM-5EGH4     Ovary\n",
      "GTEX-ZZPU-2126-SM-5EGIU     Ovary\n",
      "Name: SMTSD, Length: 138, dtype: object\n",
      "['Ovary']\n"
     ]
    }
   ],
   "source": [
    "getTissueMappings('OV', 'Ovary')\n",
    "print(np.unique(getTissueMappings('OV', 'Ovary')))"
   ]
  },
  {
   "cell_type": "code",
   "execution_count": 28,
   "metadata": {},
   "outputs": [
    {
     "name": "stdout",
     "output_type": "stream",
     "text": [
      "Count of samples  159\n",
      "SAMPID\n",
      "GTEX-111CU-1526-SM-5N9FS    Prostate\n",
      "GTEX-111FC-2026-SM-5GZYO    Prostate\n",
      "GTEX-111YS-1726-SM-5GIED    Prostate\n",
      "GTEX-117YW-1426-SM-5EGGO    Prostate\n",
      "GTEX-117YX-1526-SM-5H12T    Prostate\n",
      "                              ...   \n",
      "GTEX-ZUA1-2826-SM-59HLE     Prostate\n",
      "GTEX-ZVP2-0826-SM-59HJ6     Prostate\n",
      "GTEX-ZY6K-1526-SM-5GZXE     Prostate\n",
      "GTEX-ZYFD-2526-SM-5E45L     Prostate\n",
      "GTEX-ZZ64-0926-SM-5E44L     Prostate\n",
      "Name: SMTSD, Length: 159, dtype: object\n",
      "Count of samples  159\n",
      "SAMPID\n",
      "GTEX-111CU-1526-SM-5N9FS    Prostate\n",
      "GTEX-111FC-2026-SM-5GZYO    Prostate\n",
      "GTEX-111YS-1726-SM-5GIED    Prostate\n",
      "GTEX-117YW-1426-SM-5EGGO    Prostate\n",
      "GTEX-117YX-1526-SM-5H12T    Prostate\n",
      "                              ...   \n",
      "GTEX-ZUA1-2826-SM-59HLE     Prostate\n",
      "GTEX-ZVP2-0826-SM-59HJ6     Prostate\n",
      "GTEX-ZY6K-1526-SM-5GZXE     Prostate\n",
      "GTEX-ZYFD-2526-SM-5E45L     Prostate\n",
      "GTEX-ZZ64-0926-SM-5E44L     Prostate\n",
      "Name: SMTSD, Length: 159, dtype: object\n",
      "['Prostate']\n"
     ]
    }
   ],
   "source": [
    "getTissueMappings('PROSTATE', 'Prostate')\n",
    "print(np.unique(getTissueMappings('PROSTATE', 'Prostate')))"
   ]
  },
  {
   "cell_type": "code",
   "execution_count": 29,
   "metadata": {},
   "outputs": [
    {
     "name": "stdout",
     "output_type": "stream",
     "text": [
      "Count of samples  11\n",
      "SAMPID\n",
      "GTEX-S32W-1526-SM-4AD6Z    Cervix - Ectocervix\n",
      "GTEX-S32W-1626-SM-4AD6G    Cervix - Endocervix\n",
      "GTEX-S341-1126-SM-4AD6T    Cervix - Ectocervix\n",
      "GTEX-S341-1326-SM-4AD72    Cervix - Endocervix\n",
      "GTEX-S4UY-1426-SM-4AD6Y    Cervix - Ectocervix\n",
      "GTEX-T5JW-0726-SM-4DM6D    Cervix - Ectocervix\n",
      "GTEX-T6MO-1426-SM-4DM73    Cervix - Endocervix\n",
      "GTEX-TML8-0726-SM-4DXTT    Cervix - Endocervix\n",
      "GTEX-TSE9-2726-SM-4DXSQ    Cervix - Endocervix\n",
      "GTEX-TSE9-2826-SM-4DXTF    Cervix - Ectocervix\n",
      "GTEX-U3ZN-1626-SM-4DXTZ    Cervix - Ectocervix\n",
      "Name: SMTSD, dtype: object\n",
      "Count of samples  11\n",
      "SAMPID\n",
      "GTEX-S32W-1526-SM-4AD6Z    Cervix - Ectocervix\n",
      "GTEX-S32W-1626-SM-4AD6G    Cervix - Endocervix\n",
      "GTEX-S341-1126-SM-4AD6T    Cervix - Ectocervix\n",
      "GTEX-S341-1326-SM-4AD72    Cervix - Endocervix\n",
      "GTEX-S4UY-1426-SM-4AD6Y    Cervix - Ectocervix\n",
      "GTEX-T5JW-0726-SM-4DM6D    Cervix - Ectocervix\n",
      "GTEX-T6MO-1426-SM-4DM73    Cervix - Endocervix\n",
      "GTEX-TML8-0726-SM-4DXTT    Cervix - Endocervix\n",
      "GTEX-TSE9-2726-SM-4DXSQ    Cervix - Endocervix\n",
      "GTEX-TSE9-2826-SM-4DXTF    Cervix - Ectocervix\n",
      "GTEX-U3ZN-1626-SM-4DXTZ    Cervix - Ectocervix\n",
      "Name: SMTSD, dtype: object\n",
      "['Cervix - Ectocervix' 'Cervix - Endocervix']\n"
     ]
    }
   ],
   "source": [
    "getTissueMappings('CERVICAL', 'Cervix')\n",
    "print(np.unique(getTissueMappings('CERVICAL', 'Cervix')))"
   ]
  },
  {
   "cell_type": "code",
   "execution_count": 30,
   "metadata": {},
   "outputs": [
    {
     "name": "stdout",
     "output_type": "stream",
     "text": [
      "Count of samples  11\n",
      "SAMPID\n",
      "GTEX-S32W-1126-SM-4AD5V    Bladder\n",
      "GTEX-S3XE-1226-SM-4AD4L    Bladder\n",
      "GTEX-S4Q7-0926-SM-4AD5D    Bladder\n",
      "GTEX-S4UY-0926-SM-4AD6O    Bladder\n",
      "GTEX-SE5C-1026-SM-4BRUG    Bladder\n",
      "GTEX-SNMC-0826-SM-4DM66    Bladder\n",
      "GTEX-SNOS-0526-SM-4DM54    Bladder\n",
      "GTEX-TMMY-1526-SM-4DXST    Bladder\n",
      "GTEX-U3ZM-0826-SM-4DXU6    Bladder\n",
      "GTEX-U3ZN-1226-SM-4DXUD    Bladder\n",
      "GTEX-U4B1-1226-SM-4DXT7    Bladder\n",
      "Name: SMTSD, dtype: object\n",
      "Count of samples  11\n",
      "SAMPID\n",
      "GTEX-S32W-1126-SM-4AD5V    Bladder\n",
      "GTEX-S3XE-1226-SM-4AD4L    Bladder\n",
      "GTEX-S4Q7-0926-SM-4AD5D    Bladder\n",
      "GTEX-S4UY-0926-SM-4AD6O    Bladder\n",
      "GTEX-SE5C-1026-SM-4BRUG    Bladder\n",
      "GTEX-SNMC-0826-SM-4DM66    Bladder\n",
      "GTEX-SNOS-0526-SM-4DM54    Bladder\n",
      "GTEX-TMMY-1526-SM-4DXST    Bladder\n",
      "GTEX-U3ZM-0826-SM-4DXU6    Bladder\n",
      "GTEX-U3ZN-1226-SM-4DXUD    Bladder\n",
      "GTEX-U4B1-1226-SM-4DXT7    Bladder\n",
      "Name: SMTSD, dtype: object\n",
      "['Bladder']\n"
     ]
    }
   ],
   "source": [
    "getTissueMappings('BLADDER', 'Bladder')\n",
    "print(np.unique(getTissueMappings('BLADDER', 'Bladder')))"
   ]
  },
  {
   "cell_type": "code",
   "execution_count": 31,
   "metadata": {},
   "outputs": [
    {
     "name": "stdout",
     "output_type": "stream",
     "text": [
      "Count of samples  272\n",
      "SAMPID\n",
      "GTEX-111CU-0926-SM-5EGIK    Stomach\n",
      "GTEX-111YS-1126-SM-5GZYQ    Stomach\n",
      "GTEX-1122O-1926-SM-5EGIQ    Stomach\n",
      "GTEX-117YW-2226-SM-5N9DB    Stomach\n",
      "GTEX-117YX-1026-SM-5H11V    Stomach\n",
      "                             ...   \n",
      "GTEX-ZYFG-1326-SM-5GICJ     Stomach\n",
      "GTEX-ZYVF-2726-SM-5GID4     Stomach\n",
      "GTEX-ZYY3-1726-SM-5EGH3     Stomach\n",
      "GTEX-ZZ64-0426-SM-5E43F     Stomach\n",
      "GTEX-ZZPU-1426-SM-5GZZ6     Stomach\n",
      "Name: SMTSD, Length: 272, dtype: object\n",
      "Count of samples  272\n",
      "SAMPID\n",
      "GTEX-111CU-0926-SM-5EGIK    Stomach\n",
      "GTEX-111YS-1126-SM-5GZYQ    Stomach\n",
      "GTEX-1122O-1926-SM-5EGIQ    Stomach\n",
      "GTEX-117YW-2226-SM-5N9DB    Stomach\n",
      "GTEX-117YX-1026-SM-5H11V    Stomach\n",
      "                             ...   \n",
      "GTEX-ZYFG-1326-SM-5GICJ     Stomach\n",
      "GTEX-ZYVF-2726-SM-5GID4     Stomach\n",
      "GTEX-ZYY3-1726-SM-5EGH3     Stomach\n",
      "GTEX-ZZ64-0426-SM-5E43F     Stomach\n",
      "GTEX-ZZPU-1426-SM-5GZZ6     Stomach\n",
      "Name: SMTSD, Length: 272, dtype: object\n",
      "['Stomach']\n"
     ]
    }
   ],
   "source": [
    "getTissueMappings('STOMACH', 'Stomach')\n",
    "print(np.unique(getTissueMappings('STOMACH', 'Stomach')))"
   ]
  },
  {
   "cell_type": "code",
   "execution_count": 32,
   "metadata": {},
   "outputs": [
    {
     "name": "stdout",
     "output_type": "stream",
     "text": [
      "Count of samples  268\n",
      "SAMPID\n",
      "GTEX-111CU-0526-SM-5EGHK    Pancreas\n",
      "GTEX-111YS-1226-SM-5EGGJ    Pancreas\n",
      "GTEX-1122O-0726-SM-5GIEV    Pancreas\n",
      "GTEX-1128S-0826-SM-5GZZI    Pancreas\n",
      "GTEX-117YX-0226-SM-5EGH6    Pancreas\n",
      "                              ...   \n",
      "GTEX-ZYT6-1326-SM-5E453     Pancreas\n",
      "GTEX-ZYW4-2126-SM-59HJ9     Pancreas\n",
      "GTEX-ZYWO-1326-SM-5SI8X     Pancreas\n",
      "GTEX-ZYY3-0826-SM-5E44R     Pancreas\n",
      "GTEX-ZZPU-0726-SM-5N9C8     Pancreas\n",
      "Name: SMTSD, Length: 268, dtype: object\n",
      "Count of samples  268\n",
      "SAMPID\n",
      "GTEX-111CU-0526-SM-5EGHK    Pancreas\n",
      "GTEX-111YS-1226-SM-5EGGJ    Pancreas\n",
      "GTEX-1122O-0726-SM-5GIEV    Pancreas\n",
      "GTEX-1128S-0826-SM-5GZZI    Pancreas\n",
      "GTEX-117YX-0226-SM-5EGH6    Pancreas\n",
      "                              ...   \n",
      "GTEX-ZYT6-1326-SM-5E453     Pancreas\n",
      "GTEX-ZYW4-2126-SM-59HJ9     Pancreas\n",
      "GTEX-ZYWO-1326-SM-5SI8X     Pancreas\n",
      "GTEX-ZYY3-0826-SM-5E44R     Pancreas\n",
      "GTEX-ZZPU-0726-SM-5N9C8     Pancreas\n",
      "Name: SMTSD, Length: 268, dtype: object\n",
      "['Pancreas']\n"
     ]
    }
   ],
   "source": [
    "getTissueMappings('PANCREAS', 'Pancreas')\n",
    "print(np.unique(getTissueMappings('PANCREAS', 'Pancreas')))\n"
   ]
  },
  {
   "cell_type": "code",
   "execution_count": 38,
   "metadata": {},
   "outputs": [
    {
     "name": "stdout",
     "output_type": "stream",
     "text": [
      "Count of samples  117\n",
      "SAMPID\n",
      "GTEX-1117F-2426-SM-5EGGH    Uterus\n",
      "GTEX-113JC-2226-SM-5EGJG    Uterus\n",
      "GTEX-11DXX-1526-SM-5H115    Uterus\n",
      "GTEX-11EM3-1926-SM-5987U    Uterus\n",
      "GTEX-11EMC-1826-SM-5A5JT    Uterus\n",
      "GTEX-11GSP-2426-SM-5N9BD    Uterus\n",
      "GTEX-11I78-2126-SM-5A5K8    Uterus\n",
      "GTEX-11P81-1626-SM-5BC52    Uterus\n",
      "GTEX-11ZTS-2326-SM-5EQMY    Uterus\n",
      "GTEX-11ZTT-1726-SM-5EQL4    Uterus\n",
      "GTEX-12WSD-2826-SM-59HKT    Uterus\n",
      "GTEX-12WSG-2126-SM-5EGJ7    Uterus\n",
      "GTEX-12WSK-2026-SM-5CVNB    Uterus\n",
      "GTEX-12ZZX-2126-SM-5LZVL    Uterus\n",
      "GTEX-1313W-2826-SM-5P9G1    Uterus\n",
      "GTEX-131XG-2026-SM-5GCN5    Uterus\n",
      "GTEX-131YS-2326-SM-5IJFJ    Uterus\n",
      "GTEX-132AR-1526-SM-5KM1L    Uterus\n",
      "GTEX-1399S-2226-SM-5IFEW    Uterus\n",
      "GTEX-1399U-1326-SM-5IJET    Uterus\n",
      "GTEX-139D8-2526-SM-5N9G3    Uterus\n",
      "GTEX-13D11-1226-SM-5IFGA    Uterus\n",
      "GTEX-13FTX-1026-SM-5J2O5    Uterus\n",
      "GTEX-13N11-1126-SM-5KM41    Uterus\n",
      "GTEX-13OVI-1026-SM-5L3EM    Uterus\n",
      "GTEX-13OVJ-2326-SM-5IJGA    Uterus\n",
      "GTEX-13PL7-2026-SM-5IFGK    Uterus\n",
      "GTEX-13QBU-1626-SM-5LU4S    Uterus\n",
      "GTEX-13S7M-1726-SM-5RQK3    Uterus\n",
      "GTEX-13U4I-1926-SM-5LU39    Uterus\n",
      "                             ...  \n",
      "GTEX-T6MO-1526-SM-4DM57     Uterus\n",
      "GTEX-TMMY-2226-SM-4DXTN     Uterus\n",
      "GTEX-TSE9-2626-SM-4DXV2     Uterus\n",
      "GTEX-U3ZN-0726-SM-4DXT5     Uterus\n",
      "GTEX-UPIC-1526-SM-4IHLU     Uterus\n",
      "GTEX-W5WG-1326-SM-4LMI9     Uterus\n",
      "GTEX-WEY5-0726-SM-4LMID     Uterus\n",
      "GTEX-WI4N-2426-SM-4OOSC     Uterus\n",
      "GTEX-WWYW-2826-SM-4MVOQ     Uterus\n",
      "GTEX-WXYG-1326-SM-4ONCN     Uterus\n",
      "GTEX-WYVS-1226-SM-4ONCL     Uterus\n",
      "GTEX-XUJ4-1526-SM-4BONU     Uterus\n",
      "GTEX-XUW1-0226-SM-4BOOS     Uterus\n",
      "GTEX-XUZC-0926-SM-4BOQF     Uterus\n",
      "GTEX-XV7Q-1526-SM-4BRWB     Uterus\n",
      "GTEX-XYKS-1626-SM-4BRUQ     Uterus\n",
      "GTEX-Y114-1826-SM-4TT87     Uterus\n",
      "GTEX-Y3IK-2126-SM-4YCDS     Uterus\n",
      "GTEX-YFC4-2826-SM-5P9FR     Uterus\n",
      "GTEX-YJ8O-1126-SM-5P9IS     Uterus\n",
      "GTEX-ZAJG-2826-SM-5HL8D     Uterus\n",
      "GTEX-ZAK1-2526-SM-5S2N7     Uterus\n",
      "GTEX-ZLWG-1026-SM-4WWC4     Uterus\n",
      "GTEX-ZP4G-0726-SM-4WWF2     Uterus\n",
      "GTEX-ZTPG-2026-SM-5O999     Uterus\n",
      "GTEX-ZV6S-1526-SM-5NQ7O     Uterus\n",
      "GTEX-ZVT2-0426-SM-5E44S     Uterus\n",
      "GTEX-ZXES-0726-SM-5E451     Uterus\n",
      "GTEX-ZYVF-0526-SM-5E43E     Uterus\n",
      "GTEX-ZYWO-2126-SM-5GZXF     Uterus\n",
      "Name: SMTSD, Length: 117, dtype: object\n"
     ]
    }
   ],
   "source": [
    "getTissueMappings('UTERINE', 'Uterus')"
   ]
  },
  {
   "cell_type": "code",
   "execution_count": 39,
   "metadata": {},
   "outputs": [
    {
     "name": "stdout",
     "output_type": "stream",
     "text": [
      "Count of samples  564\n",
      "SAMPID\n",
      "GTEX-111CU-0226-SM-5GZXC    Thyroid\n",
      "GTEX-111FC-1026-SM-5GZX1    Thyroid\n",
      "GTEX-111VG-0526-SM-5N9BW    Thyroid\n",
      "GTEX-111YS-0726-SM-5GZY8    Thyroid\n",
      "GTEX-1122O-0226-SM-5N9DA    Thyroid\n",
      "GTEX-1128S-0126-SM-5H12S    Thyroid\n",
      "GTEX-113JC-0126-SM-5EGJW    Thyroid\n",
      "GTEX-117XS-0526-SM-5987Q    Thyroid\n",
      "GTEX-117YW-0126-SM-5EGGN    Thyroid\n",
      "GTEX-117YX-1226-SM-5H11S    Thyroid\n",
      "GTEX-1192W-0126-SM-5EGGS    Thyroid\n",
      "GTEX-1192X-1126-SM-5EGGU    Thyroid\n",
      "GTEX-11DXX-0226-SM-5P9HL    Thyroid\n",
      "GTEX-11DXY-0426-SM-5H12R    Thyroid\n",
      "GTEX-11DXZ-0926-SM-5N9CG    Thyroid\n",
      "GTEX-11DYG-0826-SM-5N9GH    Thyroid\n",
      "GTEX-11DZ1-2726-SM-5A5KH    Thyroid\n",
      "GTEX-11EI6-0726-SM-59866    Thyroid\n",
      "GTEX-11EM3-0126-SM-5985K    Thyroid\n",
      "GTEX-11EMC-0226-SM-5EGLP    Thyroid\n",
      "GTEX-11EQ8-0826-SM-5N9FG    Thyroid\n",
      "GTEX-11EQ9-0626-SM-5A5K1    Thyroid\n",
      "GTEX-11GS4-0826-SM-5986J    Thyroid\n",
      "GTEX-11GSO-0626-SM-5A5LW    Thyroid\n",
      "GTEX-11GSP-0126-SM-5A5KU    Thyroid\n",
      "GTEX-11I78-0526-SM-5986A    Thyroid\n",
      "GTEX-11LCK-0526-SM-5A5M9    Thyroid\n",
      "GTEX-11NSD-0126-SM-5987F    Thyroid\n",
      "GTEX-11NUK-1026-SM-5HL5J    Thyroid\n",
      "GTEX-11NV4-0626-SM-5N9BR    Thyroid\n",
      "                             ...   \n",
      "GTEX-ZLWG-0526-SM-4WWFB     Thyroid\n",
      "GTEX-ZPCL-0126-SM-4WWC8     Thyroid\n",
      "GTEX-ZPU1-0426-SM-4WWCA     Thyroid\n",
      "GTEX-ZPU1-0426-SM-72D74     Thyroid\n",
      "GTEX-ZQG8-0926-SM-57WFF     Thyroid\n",
      "GTEX-ZQUD-0126-SM-4YCDY     Thyroid\n",
      "GTEX-ZQUD-0126-SM-7EPIS     Thyroid\n",
      "GTEX-ZT9W-0226-SM-4YCCZ     Thyroid\n",
      "GTEX-ZT9X-0226-SM-51MT2     Thyroid\n",
      "GTEX-ZTPG-0826-SM-5DUVC     Thyroid\n",
      "GTEX-ZTSS-0226-SM-59877     Thyroid\n",
      "GTEX-ZTX8-0626-SM-59HKC     Thyroid\n",
      "GTEX-ZUA1-0926-SM-4YCDX     Thyroid\n",
      "GTEX-ZV6S-0226-SM-59HJT     Thyroid\n",
      "GTEX-ZV7C-0126-SM-57WDE     Thyroid\n",
      "GTEX-ZVP2-0426-SM-57WC2     Thyroid\n",
      "GTEX-ZVT3-0726-SM-5GICN     Thyroid\n",
      "GTEX-ZVZP-1026-SM-5GICI     Thyroid\n",
      "GTEX-ZVZQ-0626-SM-59HJU     Thyroid\n",
      "GTEX-ZXG5-0926-SM-5NQ8H     Thyroid\n",
      "GTEX-ZY6K-0226-SM-5SIAY     Thyroid\n",
      "GTEX-ZYFC-0926-SM-5GZWW     Thyroid\n",
      "GTEX-ZYFD-0826-SM-5NQ9A     Thyroid\n",
      "GTEX-ZYFG-0626-SM-5GZYA     Thyroid\n",
      "GTEX-ZYT6-0426-SM-5GID3     Thyroid\n",
      "GTEX-ZYVF-1126-SM-5E458     Thyroid\n",
      "GTEX-ZYW4-1126-SM-5SI99     Thyroid\n",
      "GTEX-ZYY3-1926-SM-5GZXS     Thyroid\n",
      "GTEX-ZZ64-0126-SM-5GZXA     Thyroid\n",
      "GTEX-ZZPU-1326-SM-5GZWS     Thyroid\n",
      "Name: SMTSD, Length: 564, dtype: object\n"
     ]
    }
   ],
   "source": [
    "getTissueMappings('THYROID', 'Thyroid')"
   ]
  },
  {
   "cell_type": "code",
   "execution_count": 2,
   "metadata": {},
   "outputs": [],
   "source": [
    "\n",
    "#Define all cancer types\n",
    "cancer_types = ['BRCA', 'AML', \n",
    "                'COLON', 'LUNG', \n",
    "                'BRAIN', 'OV', \n",
    "                'SARCOMA', 'KIDNEY', \n",
    "                'LIVER', 'STOMACH', \n",
    "                'SKIN', 'PROSTATE',\n",
    "                'THYROID', 'UTERINE', \n",
    "                'HEAD_NECK', 'PANCREAS',\n",
    "                'CERVICAL', 'BLADDER']"
   ]
  },
  {
   "cell_type": "code",
   "execution_count": 7,
   "metadata": {},
   "outputs": [
    {
     "name": "stdout",
     "output_type": "stream",
     "text": [
      "AML\n",
      "(407, 1)\n",
      "BLADDER\n",
      "(10, 1)\n",
      "BRAIN\n",
      "(1670, 1)\n",
      "BRCA\n",
      "(289, 1)\n",
      "CERVICAL\n",
      "(10, 1)\n",
      "COLON\n",
      "(506, 1)\n",
      "HEAD_NECK\n",
      "KIDNEY\n",
      "(44, 1)\n",
      "LIVER\n",
      "(175, 1)\n",
      "LUNG\n",
      "(426, 1)\n",
      "OV\n",
      "(132, 1)\n",
      "PANCREAS\n",
      "(247, 1)\n",
      "PROSTATE\n",
      "(151, 1)\n",
      "SARCOMA\n",
      "(563, 1)\n",
      "SKIN\n",
      "(859, 1)\n",
      "STOMACH\n",
      "(261, 1)\n",
      "THYROID\n",
      "(445, 1)\n",
      "UTERINE\n",
      "(110, 1)\n"
     ]
    }
   ],
   "source": [
    "for cancer in np.sort(cancer_types):\n",
    "    print(cancer)\n",
    "    if cancer != 'HEAD_NECK':\n",
    "        data_df = pd.read_csv('../ALL_CANCER_FILES/' + cancer + '/HEALTHY_TISSUE_FILES/' + cancer + '_DeepProfile_GTEX_Healthy_Tissue_Embedding_150L.tsv')\n",
    "        print(data_df.shape)\n",
    "    "
   ]
  },
  {
   "cell_type": "code",
   "execution_count": null,
   "metadata": {},
   "outputs": [],
   "source": []
  }
 ],
 "metadata": {
  "kernelspec": {
   "display_name": "Python 3",
   "language": "python",
   "name": "python3"
  },
  "language_info": {
   "codemirror_mode": {
    "name": "ipython",
    "version": 3
   },
   "file_extension": ".py",
   "mimetype": "text/x-python",
   "name": "python",
   "nbconvert_exporter": "python",
   "pygments_lexer": "ipython3",
   "version": "3.6.8"
  }
 },
 "nbformat": 4,
 "nbformat_minor": 2
}
